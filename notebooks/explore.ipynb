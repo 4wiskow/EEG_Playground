{
 "cells": [
  {
   "cell_type": "code",
   "execution_count": 1,
   "outputs": [
    {
     "name": "stdout",
     "text": [
      "Extracting EDF parameters from C:\\Users\\maria\\PycharmProjects\\EEG_Playground\\data\\001_D1.bdf...\n",
      "BDF file detected\n",
      "Setting channel info structure...\n",
      "Creating raw.info structure...\n",
      "Reading 0 ... 1906687  =      0.000 ...   931.000 secs...\n",
      "Filtering raw data in 1 contiguous segment\n",
      "Setting up high-pass filter at 0.3 Hz\n",
      "\n",
      "FIR filter parameters\n",
      "---------------------\n",
      "Designing a one-pass, zero-phase, non-causal highpass filter:\n",
      "- Windowed time-domain design (firwin) method\n",
      "- Hamming window with 0.0194 passband ripple and 53 dB stopband attenuation\n",
      "- Lower passband edge: 0.30\n",
      "- Lower transition bandwidth: 0.30 Hz (-6 dB cutoff frequency: 0.15 Hz)\n",
      "- Filter length: 22529 samples (11.000 sec)\n",
      "\n",
      "['A1', 'A2', 'A3', 'A4', 'A5', 'A6', 'A7', 'A8', 'A9', 'A10', 'A11', 'A12', 'A13', 'A14', 'A15', 'A16', 'A17', 'A18', 'A19', 'A20', 'A21', 'A22', 'A23', 'A24', 'A25', 'A26', 'A27', 'A28', 'A29', 'A30', 'A31', 'A32', 'B1', 'B2', 'B3', 'B4', 'B5', 'B6', 'B7', 'B8', 'B9', 'B10', 'B11', 'B12', 'B13', 'B14', 'B15', 'B16', 'B17', 'B18', 'B19', 'B20', 'B21', 'B22', 'B23', 'B24', 'B25', 'B26', 'B27', 'B28', 'B29', 'B30', 'B31', 'B32', 'C1', 'C2', 'C3', 'C4', 'C5', 'C6', 'C7', 'C8', 'C9', 'C10', 'C11', 'C12', 'C13', 'C14', 'C15', 'C16', 'C17', 'C18', 'C19', 'C20', 'C21', 'C22', 'C23', 'C24', 'C25', 'C26', 'C27', 'C28', 'C29', 'C30', 'C31', 'C32', 'D1', 'D2', 'D3', 'D4', 'D5', 'D6', 'D7', 'D8', 'D9', 'D10', 'D11', 'D12', 'D13', 'D14', 'D15', 'D16', 'D17', 'D18', 'D19', 'D20', 'D21', 'D22', 'D23', 'D24', 'D25', 'D26', 'D27', 'D28', 'D29', 'D30', 'D31', 'D32', 'Status']\nTrigger channel has a non-zero initial value of 65536 (consider using initial_event=True to detect this event)\n",
      "Removing orphaned offset at the beginning of the file.\n",
      "1796 events found\n",
      "Event IDs: [  2   5  10  11  12  13  14  20  21  22  23  24  30  31  32  33  34  40\n  41  42  43  44  50  51  52  53  54  70 100 101 102 103 104 110 111 112\n 113 114]\n",
      "138 matching events found\n",
      "Applying baseline correction (mode: mean)\n",
      "Not setting metadata\n",
      "0 projection items activated\n",
      "Loading data for 138 events and 4507 original time points ...\n",
      "0 bad epochs dropped\n"
     ],
     "output_type": "stream"
    },
    {
     "data": {
      "text/plain": "<Epochs  |   138 events (all good), 0 - 2 sec, baseline [None, 0], ~552.4 MB, data loaded,\n 'sampleBlue': 24\n 'sampleObject': 45\n 'sampleRed': 24\n 'sampleScene': 45>"
     },
     "metadata": {},
     "output_type": "execute_result",
     "execution_count": 1
    }
   ],
   "source": [
    "import mne\n",
    "\n",
    "data_path = '../data/001_D1.bdf'\n",
    "bad_channels = ['Temp', 'Plet', 'Resp', 'Erg2', 'Erg1', 'GSR2', 'GSR1', 'EXG8', 'EXG7', 'EXG6', 'EXG5', 'EXG4', 'EXG3', 'EXG2', 'EXG1']\n",
    "raw = mne.io.read_raw_bdf(data_path, preload=True)\n",
    "\n",
    "raw.info['bads'] = bad_channels\n",
    "raw.pick_types(eeg=True, meg=False, include=['Status'], exclude='bads')\n",
    "raw.filter(l_freq=0.3, h_freq=None) # filter movement artifacts\n",
    "\n",
    "events = mne.find_events(raw, stim_channel='Status')\n",
    "\n",
    "# define baseline for each epoch\n",
    "tmin, tmax = -0.2, 2\n",
    "baseline = (None, 0.0)\n",
    "#reject = {'eeg': 200e-6}\n",
    "triggers = {'sampleObject': 21, 'sampleScene': 22, 'sampleBlue': 23, 'sampleRed': 24}\n",
    "epochs = mne.Epochs(raw, events=events, event_id=triggers, tmin=tmin,\n",
    "                    tmax=tmax, baseline=baseline,\n",
    "                    picks=('eeg'))\n",
    "epochs.load_data()\n",
    "epochs.crop(tmin=0.) # remove baseline period"
   ],
   "metadata": {
    "collapsed": false,
    "pycharm": {
     "name": "#%% Load data\n",
     "is_executing": false
    }
   }
  },
  {
   "cell_type": "code",
   "execution_count": 6,
   "outputs": [
    {
     "name": "stdout",
     "text": [
      "0.5444444444444444\n"
     ],
     "output_type": "stream"
    },
    {
     "name": "stderr",
     "text": [
      "C:\\ProgramData\\Anaconda3\\lib\\site-packages\\sklearn\\svm\\base.py:193: FutureWarning: The default value of gamma will change from 'auto' to 'scale' in version 0.22 to account better for unscaled features. Set gamma explicitly to 'auto' or 'scale' to avoid this warning.\n  \"avoid this warning.\", FutureWarning)\n"
     ],
     "output_type": "stream"
    }
   ],
   "source": [
    "import numpy as np\n",
    "from sklearn.svm import SVC\n",
    "\n",
    "evoked_object = epochs['sampleObject'].get_data()\n",
    "evoked_scene = epochs['sampleScene'].get_data()\n",
    "\n",
    "avg_lower = int(np.ceil(0.4 * 2048))\n",
    "avg_upper = int(np.ceil(2 * 2048))\n",
    "evoked_object = np.mean(evoked_object[:, :, avg_lower:avg_upper], axis=2)\n",
    "evoked_scene = np.mean(evoked_scene[:, :, avg_lower:avg_upper], axis=2)\n",
    "x = np.concatenate([evoked_object, evoked_scene], axis=0)\n",
    "y = np.concatenate([np.zeros(evoked_object.shape[0]), np.ones(evoked_scene.shape[0])], axis=0)\n",
    "\n",
    "model = SVC(class_weight='balanced')\n",
    "model.fit(x, y)\n",
    "acc = model.score(x, y)\n",
    "print(acc)"
   ],
   "metadata": {
    "collapsed": false,
    "pycharm": {
     "name": "#%% fit svm\n",
     "is_executing": false
    }
   }
  },
  {
   "cell_type": "code",
   "execution_count": null,
   "outputs": [
    {
     "name": "stdout",
     "text": [
      "WARNING:tensorflow:Layer conv2d is casting an input tensor from dtype float64 to the layer's dtype of float32, which is new behavior in TensorFlow 2.  The layer has dtype float32 because it's dtype defaults to floatx.\n\nIf you intended to run this layer in float32, you can safely ignore this warning. If in doubt, this warning is likely only an issue if you are porting a TensorFlow 1.X model to TensorFlow 2.\n\nTo change all layers to have dtype float64 by default, call `tf.keras.backend.set_floatx('float64')`. To change just this layer, pass dtype='float64' to the layer constructor. If you are the author of this layer, you can disable autocasting by passing autocast=False to the base Layer constructor.\n\n"
     ],
     "output_type": "stream"
    }
   ],
   "source": [
    "# from keras.models import Sequential\n",
    "# \n",
    "# model = Sequential()\n",
    "# model.add(Input(shape=x.shape[1:]))\n",
    "# model.add(Conv2D(filters=32, kernel_size=(200, 1), activation='relu'))\n",
    "\n",
    "import tensorflow as tf\n",
    "import numpy as np\n",
    "\n",
    "evoked_object = epochs['sampleObject'].get_data()\n",
    "evoked_scene = epochs['sampleScene'].get_data()\n",
    "\n",
    "x = np.concatenate([evoked_object, evoked_scene], axis=0)\n",
    "y = np.concatenate([np.zeros(evoked_object.shape[0]), np.ones(evoked_scene.shape[0])], axis=0)\n",
    "x = np.expand_dims(x, 3)\n",
    "\n",
    "layers = [tf.keras.layers.Conv2D(filters=32, kernel_size=(1, 200), padding='same', input_shape=(128, 4097, 1)),\n",
    "          tf.keras.layers.Conv2D(filters=32, kernel_size=(1, 200)),\n",
    "          tf.keras.layers.MaxPool2D(pool_size=(1, 4)),\n",
    "          tf.keras.layers.Conv2D(filters=64, kernel_size=(1, 200), padding='same'),\n",
    "          tf.keras.layers.Conv2D(filters=64, kernel_size=(1, 200)),\n",
    "          tf.keras.layers.MaxPool2D(pool_size=(1, 4)),\n",
    "          tf.keras.layers.Conv2D(filters=128, kernel_size=(1, 200), padding='same'),\n",
    "          tf.keras.layers.MaxPool2D(pool_size=(1, 4)),\n",
    "          tf.keras.layers.Dense(units=64, activation='relu'),\n",
    "          tf.keras.layers.Dense(units=2, activation='softmax')]\n",
    "\n",
    "model = tf.keras.Sequential(layers)\n",
    "model(x, y)\n"
   ],
   "metadata": {
    "collapsed": false,
    "pycharm": {
     "name": "#%% fit CNN\n",
     "is_executing": true
    }
   }
  }
 ],
 "metadata": {
  "kernelspec": {
   "display_name": "Python 3",
   "language": "python",
   "name": "python3"
  },
  "language_info": {
   "codemirror_mode": {
    "name": "ipython",
    "version": 2
   },
   "file_extension": ".py",
   "mimetype": "text/x-python",
   "name": "python",
   "nbconvert_exporter": "python",
   "pygments_lexer": "ipython2",
   "version": "2.7.6"
  },
  "pycharm": {
   "stem_cell": {
    "cell_type": "raw",
    "source": [],
    "metadata": {
     "collapsed": false
    }
   }
  }
 },
 "nbformat": 4,
 "nbformat_minor": 0
}